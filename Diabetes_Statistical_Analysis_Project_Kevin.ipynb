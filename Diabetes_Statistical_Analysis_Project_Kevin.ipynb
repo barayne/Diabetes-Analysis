{
  "nbformat": 4,
  "nbformat_minor": 0,
  "metadata": {
    "colab": {
      "name": "Diabetes Statistical Analysis Project - Kevin.ipynb",
      "provenance": [],
      "collapsed_sections": [
        "XecOwPNorl2W",
        "J4wfHZwQrs-t",
        "a9BPYqunry97",
        "7KMRBJ7zr9HD",
        "zSGyg6kWsBUl",
        "HPQviDmNtta8",
        "CbQa-2odZAhb"
      ]
    },
    "kernelspec": {
      "display_name": "Python 3",
      "language": "python",
      "name": "python3"
    },
    "language_info": {
      "codemirror_mode": {
        "name": "ipython",
        "version": 3
      },
      "file_extension": ".py",
      "mimetype": "text/x-python",
      "name": "python",
      "nbconvert_exporter": "python",
      "pygments_lexer": "ipython3",
      "version": "3.7.4"
    }
  },
  "cells": [
    {
      "cell_type": "markdown",
      "metadata": {
        "id": "kLG2VTrnTvYL"
      },
      "source": [
        "## <font color='#2F4F4F'>1. Defining the Question</font>"
      ]
    },
    {
      "cell_type": "markdown",
      "metadata": {
        "id": "XecOwPNorl2W"
      },
      "source": [
        "### a) Specifying the Data Analysis Question\n",
        "\n",
        "What is your research question? What problem is it that you are trying to solve?"
      ]
    },
    {
      "cell_type": "markdown",
      "metadata": {
        "id": "J4wfHZwQrs-t"
      },
      "source": [
        "### b) Defining the Metric for Success\n",
        "\n",
        "What will convince you that your project has succeeded?"
      ]
    },
    {
      "cell_type": "markdown",
      "metadata": {
        "id": "a9BPYqunry97"
      },
      "source": [
        "### c) Understanding the context \n",
        "\n",
        "The background information surrounding the problem or research question."
      ]
    },
    {
      "cell_type": "markdown",
      "metadata": {
        "id": "7KMRBJ7zr9HD"
      },
      "source": [
        "### d) Recording the Experimental Design\n",
        "\n",
        "The steps you will take from the beginning to the end of this project."
      ]
    },
    {
      "cell_type": "markdown",
      "metadata": {
        "id": "zSGyg6kWsBUl"
      },
      "source": [
        "### e) Data Relevance\n",
        "\n",
        "Is your data relevant to the problem or research question?"
      ]
    },
    {
      "cell_type": "markdown",
      "metadata": {
        "id": "iUNbvIvnT7ep"
      },
      "source": [
        "## <font color='#2F4F4F'>2. Data Cleaning & Preparation</font>"
      ]
    },
    {
      "cell_type": "code",
      "metadata": {
        "id": "AMreDPhDZAbP"
      },
      "source": [
        "# load libraries\n",
        "import pandas as pd\n",
        "\n",
        "import matplotlib.pyplot as plt\n",
        "import seaborn as sns"
      ],
      "execution_count": null,
      "outputs": []
    },
    {
      "cell_type": "code",
      "metadata": {
        "id": "XJn2KjW-WMlG",
        "colab": {
          "base_uri": "https://localhost:8080/",
          "height": 143
        },
        "outputId": "adbf3ca6-1e50-4612-ac8b-c394289ab305"
      },
      "source": [
        "# load and preview dataset\n",
        "# diabetes = pd.read_csv('https://bit.ly/3eoAbDS')\n",
        "diabetes_df = pd.read_csv('/content/diabetes.csv')\n",
        "diabetes_df.sample(3)"
      ],
      "execution_count": null,
      "outputs": [
        {
          "output_type": "execute_result",
          "data": {
            "text/html": [
              "<div>\n",
              "<style scoped>\n",
              "    .dataframe tbody tr th:only-of-type {\n",
              "        vertical-align: middle;\n",
              "    }\n",
              "\n",
              "    .dataframe tbody tr th {\n",
              "        vertical-align: top;\n",
              "    }\n",
              "\n",
              "    .dataframe thead th {\n",
              "        text-align: right;\n",
              "    }\n",
              "</style>\n",
              "<table border=\"1\" class=\"dataframe\">\n",
              "  <thead>\n",
              "    <tr style=\"text-align: right;\">\n",
              "      <th></th>\n",
              "      <th>Pregnancies</th>\n",
              "      <th>Glucose</th>\n",
              "      <th>BloodPressure</th>\n",
              "      <th>SkinThickness</th>\n",
              "      <th>Insulin</th>\n",
              "      <th>BMI</th>\n",
              "      <th>DiabetesPedigreeFunction</th>\n",
              "      <th>Age</th>\n",
              "      <th>Outcome</th>\n",
              "    </tr>\n",
              "  </thead>\n",
              "  <tbody>\n",
              "    <tr>\n",
              "      <th>590</th>\n",
              "      <td>11</td>\n",
              "      <td>111</td>\n",
              "      <td>84</td>\n",
              "      <td>40</td>\n",
              "      <td>0</td>\n",
              "      <td>46.8</td>\n",
              "      <td>0.925</td>\n",
              "      <td>45</td>\n",
              "      <td>1</td>\n",
              "    </tr>\n",
              "    <tr>\n",
              "      <th>334</th>\n",
              "      <td>1</td>\n",
              "      <td>95</td>\n",
              "      <td>60</td>\n",
              "      <td>18</td>\n",
              "      <td>58</td>\n",
              "      <td>23.9</td>\n",
              "      <td>0.260</td>\n",
              "      <td>22</td>\n",
              "      <td>0</td>\n",
              "    </tr>\n",
              "    <tr>\n",
              "      <th>630</th>\n",
              "      <td>7</td>\n",
              "      <td>114</td>\n",
              "      <td>64</td>\n",
              "      <td>0</td>\n",
              "      <td>0</td>\n",
              "      <td>27.4</td>\n",
              "      <td>0.732</td>\n",
              "      <td>34</td>\n",
              "      <td>1</td>\n",
              "    </tr>\n",
              "  </tbody>\n",
              "</table>\n",
              "</div>"
            ],
            "text/plain": [
              "     Pregnancies  Glucose  ...  Age  Outcome\n",
              "590           11      111  ...   45        1\n",
              "334            1       95  ...   22        0\n",
              "630            7      114  ...   34        1\n",
              "\n",
              "[3 rows x 9 columns]"
            ]
          },
          "metadata": {},
          "execution_count": 3
        }
      ]
    },
    {
      "cell_type": "code",
      "metadata": {
        "id": "D6g3-iURZAbq",
        "colab": {
          "base_uri": "https://localhost:8080/"
        },
        "outputId": "6ab3f7ce-1547-4edb-e057-208dd82ddb7d"
      },
      "source": [
        "# preview dataset shape\n",
        "\n",
        "diabetes_df.shape"
      ],
      "execution_count": null,
      "outputs": [
        {
          "output_type": "execute_result",
          "data": {
            "text/plain": [
              "(768, 9)"
            ]
          },
          "metadata": {},
          "execution_count": 13
        }
      ]
    },
    {
      "cell_type": "code",
      "metadata": {
        "id": "wJUqDIg8ZAbu",
        "colab": {
          "base_uri": "https://localhost:8080/",
          "height": 50
        },
        "outputId": "b2044e3e-255e-45ad-c731-ab713cd7fd48"
      },
      "source": [
        "# look for duplicates\n",
        "diabetes = diabetes_df[diabetes_df.duplicated()]\n",
        "diabetes"
      ],
      "execution_count": null,
      "outputs": [
        {
          "output_type": "execute_result",
          "data": {
            "text/html": [
              "<div>\n",
              "<style scoped>\n",
              "    .dataframe tbody tr th:only-of-type {\n",
              "        vertical-align: middle;\n",
              "    }\n",
              "\n",
              "    .dataframe tbody tr th {\n",
              "        vertical-align: top;\n",
              "    }\n",
              "\n",
              "    .dataframe thead th {\n",
              "        text-align: right;\n",
              "    }\n",
              "</style>\n",
              "<table border=\"1\" class=\"dataframe\">\n",
              "  <thead>\n",
              "    <tr style=\"text-align: right;\">\n",
              "      <th></th>\n",
              "      <th>Pregnancies</th>\n",
              "      <th>Glucose</th>\n",
              "      <th>BloodPressure</th>\n",
              "      <th>SkinThickness</th>\n",
              "      <th>Insulin</th>\n",
              "      <th>BMI</th>\n",
              "      <th>DiabetesPedigreeFunction</th>\n",
              "      <th>Age</th>\n",
              "      <th>Outcome</th>\n",
              "    </tr>\n",
              "  </thead>\n",
              "  <tbody>\n",
              "  </tbody>\n",
              "</table>\n",
              "</div>"
            ],
            "text/plain": [
              "Empty DataFrame\n",
              "Columns: [Pregnancies, Glucose, BloodPressure, SkinThickness, Insulin, BMI, DiabetesPedigreeFunction, Age, Outcome]\n",
              "Index: []"
            ]
          },
          "metadata": {},
          "execution_count": 14
        }
      ]
    },
    {
      "cell_type": "code",
      "metadata": {
        "id": "7ehwywpWZAby",
        "colab": {
          "base_uri": "https://localhost:8080/"
        },
        "outputId": "6d93f3cf-6291-4114-8826-cefb010dee88"
      },
      "source": [
        "# look for missing records\n",
        "\n",
        "diabetes_df.isnull()\n",
        "# Get no of missing records\n",
        "n0_of_missing = diabetes_df.isnull().sum()\n",
        "n0_of_missing"
      ],
      "execution_count": null,
      "outputs": [
        {
          "output_type": "execute_result",
          "data": {
            "text/plain": [
              "Pregnancies                 0\n",
              "Glucose                     0\n",
              "BloodPressure               0\n",
              "SkinThickness               0\n",
              "Insulin                     0\n",
              "BMI                         0\n",
              "DiabetesPedigreeFunction    0\n",
              "Age                         0\n",
              "Outcome                     0\n",
              "dtype: int64"
            ]
          },
          "metadata": {},
          "execution_count": 17
        }
      ]
    },
    {
      "cell_type": "code",
      "metadata": {
        "id": "_Hfd5Iw4ZAb1",
        "colab": {
          "base_uri": "https://localhost:8080/"
        },
        "outputId": "e41332bb-f913-4a80-899e-b802640f0f1d"
      },
      "source": [
        "# preview datatypes\n",
        "diabetes_df.dtypes"
      ],
      "execution_count": null,
      "outputs": [
        {
          "output_type": "execute_result",
          "data": {
            "text/plain": [
              "Pregnancies                   int64\n",
              "Glucose                       int64\n",
              "BloodPressure                 int64\n",
              "SkinThickness                 int64\n",
              "Insulin                       int64\n",
              "BMI                         float64\n",
              "DiabetesPedigreeFunction    float64\n",
              "Age                           int64\n",
              "Outcome                       int64\n",
              "dtype: object"
            ]
          },
          "metadata": {},
          "execution_count": 19
        }
      ]
    },
    {
      "cell_type": "code",
      "metadata": {
        "id": "rLFc529BZAb8",
        "colab": {
          "base_uri": "https://localhost:8080/",
          "height": 423
        },
        "outputId": "20115b6c-4c51-4df5-c151-dd64439125eb"
      },
      "source": [
        "# check for outliers\n",
        "Q1 = diabetes_df.quantile(0.25)\n",
        "Q3 = diabetes_df.quantile(0.75)\n",
        "IQR = Q3 - Q1\n",
        "IQR\n",
        "\n",
        "# filter out our outliers by getting values which are outside our IQR Range.\n",
        "outliers_df_iqr = diabetes_df[((diabetes_df < (Q1 - 1.5 * IQR)) | (diabetes_df > (Q3 + 1.5 * IQR))).any(axis=1)]\n",
        "\n",
        "# Checking the size of the dataset with outliers for cleaning purposes\n",
        "outliers_df_iqr.shape\n",
        "\n",
        "# Preview Outliers\n",
        "outliers_df_iqr"
      ],
      "execution_count": null,
      "outputs": [
        {
          "output_type": "execute_result",
          "data": {
            "text/html": [
              "<div>\n",
              "<style scoped>\n",
              "    .dataframe tbody tr th:only-of-type {\n",
              "        vertical-align: middle;\n",
              "    }\n",
              "\n",
              "    .dataframe tbody tr th {\n",
              "        vertical-align: top;\n",
              "    }\n",
              "\n",
              "    .dataframe thead th {\n",
              "        text-align: right;\n",
              "    }\n",
              "</style>\n",
              "<table border=\"1\" class=\"dataframe\">\n",
              "  <thead>\n",
              "    <tr style=\"text-align: right;\">\n",
              "      <th></th>\n",
              "      <th>Pregnancies</th>\n",
              "      <th>Glucose</th>\n",
              "      <th>BloodPressure</th>\n",
              "      <th>SkinThickness</th>\n",
              "      <th>Insulin</th>\n",
              "      <th>BMI</th>\n",
              "      <th>DiabetesPedigreeFunction</th>\n",
              "      <th>Age</th>\n",
              "      <th>Outcome</th>\n",
              "    </tr>\n",
              "  </thead>\n",
              "  <tbody>\n",
              "    <tr>\n",
              "      <th>4</th>\n",
              "      <td>0</td>\n",
              "      <td>137</td>\n",
              "      <td>40</td>\n",
              "      <td>35</td>\n",
              "      <td>168</td>\n",
              "      <td>43.1</td>\n",
              "      <td>2.288</td>\n",
              "      <td>33</td>\n",
              "      <td>1</td>\n",
              "    </tr>\n",
              "    <tr>\n",
              "      <th>7</th>\n",
              "      <td>10</td>\n",
              "      <td>115</td>\n",
              "      <td>0</td>\n",
              "      <td>0</td>\n",
              "      <td>0</td>\n",
              "      <td>35.3</td>\n",
              "      <td>0.134</td>\n",
              "      <td>29</td>\n",
              "      <td>0</td>\n",
              "    </tr>\n",
              "    <tr>\n",
              "      <th>8</th>\n",
              "      <td>2</td>\n",
              "      <td>197</td>\n",
              "      <td>70</td>\n",
              "      <td>45</td>\n",
              "      <td>543</td>\n",
              "      <td>30.5</td>\n",
              "      <td>0.158</td>\n",
              "      <td>53</td>\n",
              "      <td>1</td>\n",
              "    </tr>\n",
              "    <tr>\n",
              "      <th>9</th>\n",
              "      <td>8</td>\n",
              "      <td>125</td>\n",
              "      <td>96</td>\n",
              "      <td>0</td>\n",
              "      <td>0</td>\n",
              "      <td>0.0</td>\n",
              "      <td>0.232</td>\n",
              "      <td>54</td>\n",
              "      <td>1</td>\n",
              "    </tr>\n",
              "    <tr>\n",
              "      <th>12</th>\n",
              "      <td>10</td>\n",
              "      <td>139</td>\n",
              "      <td>80</td>\n",
              "      <td>0</td>\n",
              "      <td>0</td>\n",
              "      <td>27.1</td>\n",
              "      <td>1.441</td>\n",
              "      <td>57</td>\n",
              "      <td>0</td>\n",
              "    </tr>\n",
              "    <tr>\n",
              "      <th>...</th>\n",
              "      <td>...</td>\n",
              "      <td>...</td>\n",
              "      <td>...</td>\n",
              "      <td>...</td>\n",
              "      <td>...</td>\n",
              "      <td>...</td>\n",
              "      <td>...</td>\n",
              "      <td>...</td>\n",
              "      <td>...</td>\n",
              "    </tr>\n",
              "    <tr>\n",
              "      <th>706</th>\n",
              "      <td>10</td>\n",
              "      <td>115</td>\n",
              "      <td>0</td>\n",
              "      <td>0</td>\n",
              "      <td>0</td>\n",
              "      <td>0.0</td>\n",
              "      <td>0.261</td>\n",
              "      <td>30</td>\n",
              "      <td>1</td>\n",
              "    </tr>\n",
              "    <tr>\n",
              "      <th>707</th>\n",
              "      <td>2</td>\n",
              "      <td>127</td>\n",
              "      <td>46</td>\n",
              "      <td>21</td>\n",
              "      <td>335</td>\n",
              "      <td>34.4</td>\n",
              "      <td>0.176</td>\n",
              "      <td>22</td>\n",
              "      <td>0</td>\n",
              "    </tr>\n",
              "    <tr>\n",
              "      <th>710</th>\n",
              "      <td>3</td>\n",
              "      <td>158</td>\n",
              "      <td>64</td>\n",
              "      <td>13</td>\n",
              "      <td>387</td>\n",
              "      <td>31.2</td>\n",
              "      <td>0.295</td>\n",
              "      <td>24</td>\n",
              "      <td>0</td>\n",
              "    </tr>\n",
              "    <tr>\n",
              "      <th>715</th>\n",
              "      <td>7</td>\n",
              "      <td>187</td>\n",
              "      <td>50</td>\n",
              "      <td>33</td>\n",
              "      <td>392</td>\n",
              "      <td>33.9</td>\n",
              "      <td>0.826</td>\n",
              "      <td>34</td>\n",
              "      <td>1</td>\n",
              "    </tr>\n",
              "    <tr>\n",
              "      <th>753</th>\n",
              "      <td>0</td>\n",
              "      <td>181</td>\n",
              "      <td>88</td>\n",
              "      <td>44</td>\n",
              "      <td>510</td>\n",
              "      <td>43.3</td>\n",
              "      <td>0.222</td>\n",
              "      <td>26</td>\n",
              "      <td>1</td>\n",
              "    </tr>\n",
              "  </tbody>\n",
              "</table>\n",
              "<p>129 rows × 9 columns</p>\n",
              "</div>"
            ],
            "text/plain": [
              "     Pregnancies  Glucose  ...  Age  Outcome\n",
              "4              0      137  ...   33        1\n",
              "7             10      115  ...   29        0\n",
              "8              2      197  ...   53        1\n",
              "9              8      125  ...   54        1\n",
              "12            10      139  ...   57        0\n",
              "..           ...      ...  ...  ...      ...\n",
              "706           10      115  ...   30        1\n",
              "707            2      127  ...   22        0\n",
              "710            3      158  ...   24        0\n",
              "715            7      187  ...   34        1\n",
              "753            0      181  ...   26        1\n",
              "\n",
              "[129 rows x 9 columns]"
            ]
          },
          "metadata": {},
          "execution_count": 22
        }
      ]
    },
    {
      "cell_type": "markdown",
      "metadata": {
        "id": "xvs-X851ZAb_"
      },
      "source": [
        "## <font color='#2F4F4F'>3. Data Analysis</font>"
      ]
    },
    {
      "cell_type": "markdown",
      "metadata": {
        "id": "pSm8G5AsZAcA"
      },
      "source": [
        "### 3.1 General Analysis"
      ]
    },
    {
      "cell_type": "code",
      "metadata": {
        "id": "1ppD3jdkZAcB",
        "colab": {
          "base_uri": "https://localhost:8080/",
          "height": 350
        },
        "outputId": "2cc21ed1-d076-4609-b481-56a836837ada"
      },
      "source": [
        "# distribution of Pregnancies\n",
        "fig, axes = plt.subplots(nrows = 1, ncols = 2, figsize = (12, 4))\n",
        "\n",
        "plt.subplot(1, 2, 1)\n",
        "diabetes_df.Pregnancies.hist(color = '#ff7f0e')\n",
        "plt.title('Histogram of Pregnancies')\n",
        "\n",
        "plt.subplot(1, 2, 2)\n",
        "sns.boxplot(diabetes_df.Pregnancies, color = '#9467bd')\n",
        "plt.title('Box plot of Pregnancies')\n",
        "\n",
        "plt.show()"
      ],
      "execution_count": null,
      "outputs": [
        {
          "output_type": "stream",
          "name": "stderr",
          "text": [
            "/usr/local/lib/python3.7/dist-packages/seaborn/_decorators.py:43: FutureWarning: Pass the following variable as a keyword arg: x. From version 0.12, the only valid positional argument will be `data`, and passing other arguments without an explicit keyword will result in an error or misinterpretation.\n",
            "  FutureWarning\n"
          ]
        },
        {
          "output_type": "display_data",
          "data": {
            "image/png": "[encoded data removed]",
            "text/plain": [
              "<Figure size 864x288 with 2 Axes>"
            ]
          },
          "metadata": {
            "needs_background": "light"
          }
        }
      ]
    },
    {
      "cell_type": "code",
      "metadata": {
        "id": "X8yE4EwKZAcP"
      },
      "source": [
        "# summary statistics of Pregnancies\n",
        "diabetes.Pregnancies.describe()"
      ],
      "execution_count": null,
      "outputs": []
    },
    {
      "cell_type": "markdown",
      "metadata": {
        "id": "fPpMNHkiZAcY"
      },
      "source": [
        "What do you observe about the Pregnancies variable?"
      ]
    },
    {
      "cell_type": "code",
      "metadata": {
        "id": "Yg-wm651ZAcY"
      },
      "source": [
        ""
      ],
      "execution_count": null,
      "outputs": []
    },
    {
      "cell_type": "code",
      "metadata": {
        "id": "cY1vqvh2ZAce",
        "colab": {
          "base_uri": "https://localhost:8080/",
          "height": 350
        },
        "outputId": "8b0fc5fe-8e26-4e8f-af04-a8c855ad57b5"
      },
      "source": [
        "# distribution of Glucose\n",
        "\n",
        "fig, axes = plt.subplots(nrows = 1, ncols = 2, figsize = (12, 4))\n",
        "\n",
        "plt.subplot(1, 2, 1)\n",
        "diabetes_df.Glucose.hist(color = '#00ff48')\n",
        "plt.title('Histogram of Glucose')\n",
        "\n",
        "plt.subplot(1, 2, 2)\n",
        "sns.boxplot(diabetes_df.Glucose, color = '#fc660a')\n",
        "plt.title('Box plot of Glucose')\n",
        "\n",
        "plt.show()"
      ],
      "execution_count": null,
      "outputs": [
        {
          "output_type": "stream",
          "name": "stderr",
          "text": [
            "/usr/local/lib/python3.7/dist-packages/seaborn/_decorators.py:43: FutureWarning: Pass the following variable as a keyword arg: x. From version 0.12, the only valid positional argument will be `data`, and passing other arguments without an explicit keyword will result in an error or misinterpretation.\n",
            "  FutureWarning\n"
          ]
        },
        {
          "output_type": "display_data",
          "data": {
            "image/png": "[encoded data removed]",
            "text/plain": [
              "<Figure size 864x288 with 2 Axes>"
            ]
          },
          "metadata": {
            "needs_background": "light"
          }
        }
      ]
    },
    {
      "cell_type": "code",
      "metadata": {
        "id": "xfKKayNNZAcj",
        "colab": {
          "base_uri": "https://localhost:8080/"
        },
        "outputId": "9fd26765-acfd-4669-a2a4-2c7a377c634c"
      },
      "source": [
        "# summary statistics of Glucose\n",
        "\n",
        "df_glucose = diabetes_df[\"Glucose\"]\n",
        "df_glucose.describe()"
      ],
      "execution_count": null,
      "outputs": [
        {
          "output_type": "execute_result",
          "data": {
            "text/plain": [
              "count    768.000000\n",
              "mean     120.894531\n",
              "std       31.972618\n",
              "min        0.000000\n",
              "25%       99.000000\n",
              "50%      117.000000\n",
              "75%      140.250000\n",
              "max      199.000000\n",
              "Name: Glucose, dtype: float64"
            ]
          },
          "metadata": {},
          "execution_count": 30
        }
      ]
    },
    {
      "cell_type": "markdown",
      "metadata": {
        "id": "cV7layUoZAcm"
      },
      "source": [
        "What do you observe about the Glucose variable?"
      ]
    },
    {
      "cell_type": "code",
      "metadata": {
        "id": "KEGK2U7RZAcn"
      },
      "source": [
        ""
      ],
      "execution_count": null,
      "outputs": []
    },
    {
      "cell_type": "code",
      "metadata": {
        "id": "zVUfjFBhZAcv",
        "colab": {
          "base_uri": "https://localhost:8080/",
          "height": 350
        },
        "outputId": "291220c5-ce9f-42a9-8666-a1ccc7c980fb"
      },
      "source": [
        "# distribution of BloodPressure\n",
        "\n",
        "fig, axes = plt.subplots(nrows = 1, ncols = 2, figsize = (12, 4))\n",
        "\n",
        "plt.subplot(1, 2, 1)\n",
        "diabetes_df.BloodPressure.hist(color = '#f70ef3')\n",
        "plt.title('Histogram of BloodPressure')\n",
        "\n",
        "plt.subplot(1, 2, 2)\n",
        "sns.boxplot(diabetes_df.BloodPressure, color = '#09f7e3')\n",
        "plt.title('Box plot of BloodPressure')\n",
        "\n",
        "plt.show()\n",
        "\n"
      ],
      "execution_count": null,
      "outputs": [
        {
          "output_type": "stream",
          "name": "stderr",
          "text": [
            "/usr/local/lib/python3.7/dist-packages/seaborn/_decorators.py:43: FutureWarning: Pass the following variable as a keyword arg: x. From version 0.12, the only valid positional argument will be `data`, and passing other arguments without an explicit keyword will result in an error or misinterpretation.\n",
            "  FutureWarning\n"
          ]
        },
        {
          "output_type": "display_data",
          "data": {
            "image/png": "[encoded data removed]",
            "text/plain": [
              "<Figure size 864x288 with 2 Axes>"
            ]
          },
          "metadata": {
            "needs_background": "light"
          }
        }
      ]
    },
    {
      "cell_type": "code",
      "metadata": {
        "id": "p6_BfRIIZAcz",
        "colab": {
          "base_uri": "https://localhost:8080/"
        },
        "outputId": "64a861d9-19d2-441b-ff2e-be6c71d82eb9"
      },
      "source": [
        "# summary statistics of BloodPressure\n",
        "\n",
        "df_BP = diabetes_df[\"BloodPressure\"]\n",
        "df_BP.describe()"
      ],
      "execution_count": null,
      "outputs": [
        {
          "output_type": "execute_result",
          "data": {
            "text/plain": [
              "count    768.000000\n",
              "mean      69.105469\n",
              "std       19.355807\n",
              "min        0.000000\n",
              "25%       62.000000\n",
              "50%       72.000000\n",
              "75%       80.000000\n",
              "max      122.000000\n",
              "Name: BloodPressure, dtype: float64"
            ]
          },
          "metadata": {},
          "execution_count": 32
        }
      ]
    },
    {
      "cell_type": "markdown",
      "metadata": {
        "id": "sDiu5Aj-ZAc4"
      },
      "source": [
        "Note your observations."
      ]
    },
    {
      "cell_type": "code",
      "metadata": {
        "id": "z7TuQ78TZAc4"
      },
      "source": [
        ""
      ],
      "execution_count": null,
      "outputs": []
    },
    {
      "cell_type": "code",
      "metadata": {
        "id": "xXqEyOlvZAc9",
        "colab": {
          "base_uri": "https://localhost:8080/",
          "height": 350
        },
        "outputId": "10b09976-fdde-48b0-c971-456ad38115d0"
      },
      "source": [
        "# distribution of SkinThickness\n",
        "fig, axes = plt.subplots(nrows = 1, ncols = 2, figsize = (12, 4))\n",
        "\n",
        "plt.subplot(1, 2, 1)\n",
        "diabetes_df.BloodPressure.hist(color = '#9467bd')\n",
        "plt.title('Histogram of SkinThickness')\n",
        "\n",
        "plt.subplot(1, 2, 2)\n",
        "sns.boxplot(diabetes_df.SkinThickness, color = '#09f7e3')\n",
        "plt.title('Box plot of SkinThickness')\n",
        "\n",
        "plt.show()\n",
        "\n"
      ],
      "execution_count": null,
      "outputs": [
        {
          "output_type": "stream",
          "name": "stderr",
          "text": [
            "/usr/local/lib/python3.7/dist-packages/seaborn/_decorators.py:43: FutureWarning: Pass the following variable as a keyword arg: x. From version 0.12, the only valid positional argument will be `data`, and passing other arguments without an explicit keyword will result in an error or misinterpretation.\n",
            "  FutureWarning\n"
          ]
        },
        {
          "output_type": "display_data",
          "data": {
            "image/png": "[encoded data removed]",
            "text/plain": [
              "<Figure size 864x288 with 2 Axes>"
            ]
          },
          "metadata": {
            "needs_background": "light"
          }
        }
      ]
    },
    {
      "cell_type": "code",
      "metadata": {
        "id": "CsgtvCAnZAdB",
        "colab": {
          "base_uri": "https://localhost:8080/"
        },
        "outputId": "5bfe97af-2eb6-44e1-f87d-6f09e371c46a"
      },
      "source": [
        "# summary statistics of SkinThickness\n",
        "\n",
        "df_Skin = diabetes_df[\"SkinThickness\"]\n",
        "df_Skin.describe()"
      ],
      "execution_count": null,
      "outputs": [
        {
          "output_type": "execute_result",
          "data": {
            "text/plain": [
              "count    768.000000\n",
              "mean      20.536458\n",
              "std       15.952218\n",
              "min        0.000000\n",
              "25%        0.000000\n",
              "50%       23.000000\n",
              "75%       32.000000\n",
              "max       99.000000\n",
              "Name: SkinThickness, dtype: float64"
            ]
          },
          "metadata": {},
          "execution_count": 33
        }
      ]
    },
    {
      "cell_type": "markdown",
      "metadata": {
        "id": "wBiwdAAXZAdE"
      },
      "source": [
        "Note your observations."
      ]
    },
    {
      "cell_type": "code",
      "metadata": {
        "id": "kiI8imp_ZAdF"
      },
      "source": [
        ""
      ],
      "execution_count": null,
      "outputs": []
    },
    {
      "cell_type": "code",
      "metadata": {
        "id": "II8w8PDnZAdI",
        "colab": {
          "base_uri": "https://localhost:8080/",
          "height": 350
        },
        "outputId": "25343893-3a3e-4b7e-99fd-b4b6648f164b"
      },
      "source": [
        "# distribution of Insulin\n",
        "\n",
        "\n",
        "fig, axes = plt.subplots(nrows = 1, ncols = 2, figsize = (12, 4))\n",
        "\n",
        "plt.subplot(1, 2, 1)\n",
        "diabetes_df.Insulin.hist(color = '#2708d6')\n",
        "plt.title('Histogram of Insulin')\n",
        "\n",
        "plt.subplot(1, 2, 2)\n",
        "sns.boxplot(diabetes_df.Insulin, color = '#fc660a')\n",
        "plt.title('Box plot of Insulin')\n",
        "\n",
        "plt.show()"
      ],
      "execution_count": null,
      "outputs": [
        {
          "output_type": "stream",
          "name": "stderr",
          "text": [
            "/usr/local/lib/python3.7/dist-packages/seaborn/_decorators.py:43: FutureWarning: Pass the following variable as a keyword arg: x. From version 0.12, the only valid positional argument will be `data`, and passing other arguments without an explicit keyword will result in an error or misinterpretation.\n",
            "  FutureWarning\n"
          ]
        },
        {
          "output_type": "display_data",
          "data": {
            "image/png": "[encoded data removed]",
            "text/plain": [
              "<Figure size 864x288 with 2 Axes>"
            ]
          },
          "metadata": {
            "needs_background": "light"
          }
        }
      ]
    },
    {
      "cell_type": "code",
      "metadata": {
        "id": "jIGBJ72zZAdM",
        "colab": {
          "base_uri": "https://localhost:8080/"
        },
        "outputId": "455d727f-da98-4429-daba-add34d7e66fd"
      },
      "source": [
        "# summary statistics of Insulin\n",
        "df_insulin = diabetes_df[\"Insulin\"]\n",
        "df_insulin.describe()"
      ],
      "execution_count": null,
      "outputs": [
        {
          "output_type": "execute_result",
          "data": {
            "text/plain": [
              "count    768.000000\n",
              "mean      79.799479\n",
              "std      115.244002\n",
              "min        0.000000\n",
              "25%        0.000000\n",
              "50%       30.500000\n",
              "75%      127.250000\n",
              "max      846.000000\n",
              "Name: Insulin, dtype: float64"
            ]
          },
          "metadata": {},
          "execution_count": 35
        }
      ]
    },
    {
      "cell_type": "markdown",
      "metadata": {
        "id": "rOh7fLbtZAdR"
      },
      "source": [
        "Note your observations."
      ]
    },
    {
      "cell_type": "code",
      "metadata": {
        "id": "zAjnV5q7ZAdS"
      },
      "source": [
        ""
      ],
      "execution_count": null,
      "outputs": []
    },
    {
      "cell_type": "code",
      "metadata": {
        "id": "Rofh9sMEZAdV",
        "colab": {
          "base_uri": "https://localhost:8080/",
          "height": 350
        },
        "outputId": "d7d31f91-4608-4d9c-c998-0977db3168b1"
      },
      "source": [
        "# distribution of BMI\n",
        "fig, axes = plt.subplots(nrows = 1, ncols = 2, figsize = (12, 4))\n",
        "\n",
        "plt.subplot(1, 2, 1)\n",
        "diabetes_df.BMI.hist(color = '#f46758')\n",
        "plt.title('Histogram of Insulin')\n",
        "\n",
        "plt.subplot(1, 2, 2)\n",
        "sns.boxplot(diabetes_df.BMI, color = '#b918ce')\n",
        "plt.title('Box plot of Insulin')\n",
        "\n",
        "plt.show()"
      ],
      "execution_count": null,
      "outputs": [
        {
          "output_type": "stream",
          "name": "stderr",
          "text": [
            "/usr/local/lib/python3.7/dist-packages/seaborn/_decorators.py:43: FutureWarning: Pass the following variable as a keyword arg: x. From version 0.12, the only valid positional argument will be `data`, and passing other arguments without an explicit keyword will result in an error or misinterpretation.\n",
            "  FutureWarning\n"
          ]
        },
        {
          "output_type": "display_data",
          "data": {
            "image/png": "[encoded data removed]",
            "text/plain": [
              "<Figure size 864x288 with 2 Axes>"
            ]
          },
          "metadata": {
            "needs_background": "light"
          }
        }
      ]
    },
    {
      "cell_type": "code",
      "metadata": {
        "id": "XGHN1uQZZAdb",
        "colab": {
          "base_uri": "https://localhost:8080/"
        },
        "outputId": "ce1a5f35-60c6-4de4-ccbc-b526bab0b8ab"
      },
      "source": [
        "# summary statistics of BMI\n",
        "df_insulin = diabetes_df[\"BMI\"]\n",
        "df_insulin.describe()"
      ],
      "execution_count": null,
      "outputs": [
        {
          "output_type": "execute_result",
          "data": {
            "text/plain": [
              "count    768.000000\n",
              "mean      31.992578\n",
              "std        7.884160\n",
              "min        0.000000\n",
              "25%       27.300000\n",
              "50%       32.000000\n",
              "75%       36.600000\n",
              "max       67.100000\n",
              "Name: BMI, dtype: float64"
            ]
          },
          "metadata": {},
          "execution_count": 51
        }
      ]
    },
    {
      "cell_type": "markdown",
      "metadata": {
        "id": "ys3iv5khZAdh"
      },
      "source": [
        "Note your observations."
      ]
    },
    {
      "cell_type": "code",
      "metadata": {
        "id": "sR01j2udZAdi"
      },
      "source": [
        ""
      ],
      "execution_count": null,
      "outputs": []
    },
    {
      "cell_type": "code",
      "metadata": {
        "id": "OT1xGAOtZAdl",
        "colab": {
          "base_uri": "https://localhost:8080/",
          "height": 350
        },
        "outputId": "43367072-1440-475a-feb4-e67d5e38b666"
      },
      "source": [
        "# distribution of DiabetesPedigreeFunction\n",
        "fig, axes = plt.subplots(nrows = 1, ncols = 2, figsize = (12, 4))\n",
        "\n",
        "plt.subplot(1, 2, 1)\n",
        "diabetes_df.DiabetesPedigreeFunction.hist(color = '#e0e806')\n",
        "plt.title('Histogram of DiabetesPedigreeFunction')\n",
        "\n",
        "plt.subplot(1, 2, 2)\n",
        "sns.boxplot(diabetes_df.DiabetesPedigreeFunction, color = '#07ea3f')\n",
        "plt.title('Box plot of DiabetesPedigreeFunction')\n",
        "\n",
        "plt.show()"
      ],
      "execution_count": null,
      "outputs": [
        {
          "output_type": "stream",
          "name": "stderr",
          "text": [
            "/usr/local/lib/python3.7/dist-packages/seaborn/_decorators.py:43: FutureWarning: Pass the following variable as a keyword arg: x. From version 0.12, the only valid positional argument will be `data`, and passing other arguments without an explicit keyword will result in an error or misinterpretation.\n",
            "  FutureWarning\n"
          ]
        },
        {
          "output_type": "display_data",
          "data": {
            "image/png": "[encoded data removed]",
            "text/plain": [
              "<Figure size 864x288 with 2 Axes>"
            ]
          },
          "metadata": {
            "needs_background": "light"
          }
        }
      ]
    },
    {
      "cell_type": "code",
      "metadata": {
        "id": "L8OBUCJqZAdo",
        "colab": {
          "base_uri": "https://localhost:8080/"
        },
        "outputId": "c69f6477-56c2-4f06-8c0e-9aa6e8a22552"
      },
      "source": [
        "# summary statistics of DiabetesPedigreeFunction\n",
        "\n",
        "df_insulin = diabetes_df[\"DiabetesPedigreeFunction\"]\n",
        "df_insulin.describe()"
      ],
      "execution_count": null,
      "outputs": [
        {
          "output_type": "execute_result",
          "data": {
            "text/plain": [
              "count    768.000000\n",
              "mean       0.471876\n",
              "std        0.331329\n",
              "min        0.078000\n",
              "25%        0.243750\n",
              "50%        0.372500\n",
              "75%        0.626250\n",
              "max        2.420000\n",
              "Name: DiabetesPedigreeFunction, dtype: float64"
            ]
          },
          "metadata": {},
          "execution_count": 56
        }
      ]
    },
    {
      "cell_type": "markdown",
      "metadata": {
        "id": "_lzYOoTYZAdr"
      },
      "source": [
        "Note your observations."
      ]
    },
    {
      "cell_type": "code",
      "metadata": {
        "id": "KaAWLP3FZAds"
      },
      "source": [
        ""
      ],
      "execution_count": null,
      "outputs": []
    },
    {
      "cell_type": "code",
      "metadata": {
        "id": "BpRC_5DKZAdy",
        "colab": {
          "base_uri": "https://localhost:8080/",
          "height": 350
        },
        "outputId": "64829ef1-187e-4f06-b15c-e0534c6a57ab"
      },
      "source": [
        "# distribution of Age\n",
        "\n",
        "fig, axes = plt.subplots(nrows = 1, ncols = 2, figsize = (12, 4))\n",
        "\n",
        "plt.subplot(1, 2, 1)\n",
        "diabetes_df.Age.hist(color = '#0606e5')\n",
        "plt.title('Histogram of DiabetesPedigreeFunction')\n",
        "\n",
        "plt.subplot(1, 2, 2)\n",
        "sns.boxplot(diabetes_df.Age, color = '#fc660a')\n",
        "plt.title('Box plot of DiabetesPedigreeFunction')\n",
        "\n",
        "plt.show()"
      ],
      "execution_count": null,
      "outputs": [
        {
          "output_type": "stream",
          "name": "stderr",
          "text": [
            "/usr/local/lib/python3.7/dist-packages/seaborn/_decorators.py:43: FutureWarning: Pass the following variable as a keyword arg: x. From version 0.12, the only valid positional argument will be `data`, and passing other arguments without an explicit keyword will result in an error or misinterpretation.\n",
            "  FutureWarning\n"
          ]
        },
        {
          "output_type": "display_data",
          "data": {
            "image/png": "[encoded data removed]",
            "text/plain": [
              "<Figure size 864x288 with 2 Axes>"
            ]
          },
          "metadata": {
            "needs_background": "light"
          }
        }
      ]
    },
    {
      "cell_type": "code",
      "metadata": {
        "id": "w3hJyT8XZAd9",
        "colab": {
          "base_uri": "https://localhost:8080/"
        },
        "outputId": "d94748f2-02de-4596-fe76-954d8a4b7551"
      },
      "source": [
        "# summary statistics of Age\n",
        "df_insulin = diabetes_df[\"Age\"]\n",
        "df_insulin.describe()"
      ],
      "execution_count": null,
      "outputs": [
        {
          "output_type": "execute_result",
          "data": {
            "text/plain": [
              "count    768.000000\n",
              "mean      33.240885\n",
              "std       11.760232\n",
              "min       21.000000\n",
              "25%       24.000000\n",
              "50%       29.000000\n",
              "75%       41.000000\n",
              "max       81.000000\n",
              "Name: Age, dtype: float64"
            ]
          },
          "metadata": {},
          "execution_count": 58
        }
      ]
    },
    {
      "cell_type": "markdown",
      "metadata": {
        "id": "qXjFest4ZAeB"
      },
      "source": [
        "Note your observations."
      ]
    },
    {
      "cell_type": "code",
      "metadata": {
        "id": "MSgkBWM6ZAeB",
        "colab": {
          "base_uri": "https://localhost:8080/",
          "height": 423
        },
        "outputId": "9dff4c5f-b596-4548-9421-d803f2bbff4d"
      },
      "source": [
        "diabetes_df"
      ],
      "execution_count": null,
      "outputs": [
        {
          "output_type": "execute_result",
          "data": {
            "text/html": [
              "<div>\n",
              "<style scoped>\n",
              "    .dataframe tbody tr th:only-of-type {\n",
              "        vertical-align: middle;\n",
              "    }\n",
              "\n",
              "    .dataframe tbody tr th {\n",
              "        vertical-align: top;\n",
              "    }\n",
              "\n",
              "    .dataframe thead th {\n",
              "        text-align: right;\n",
              "    }\n",
              "</style>\n",
              "<table border=\"1\" class=\"dataframe\">\n",
              "  <thead>\n",
              "    <tr style=\"text-align: right;\">\n",
              "      <th></th>\n",
              "      <th>Pregnancies</th>\n",
              "      <th>Glucose</th>\n",
              "      <th>BloodPressure</th>\n",
              "      <th>SkinThickness</th>\n",
              "      <th>Insulin</th>\n",
              "      <th>BMI</th>\n",
              "      <th>DiabetesPedigreeFunction</th>\n",
              "      <th>Age</th>\n",
              "      <th>Outcome</th>\n",
              "    </tr>\n",
              "  </thead>\n",
              "  <tbody>\n",
              "    <tr>\n",
              "      <th>0</th>\n",
              "      <td>6</td>\n",
              "      <td>148</td>\n",
              "      <td>72</td>\n",
              "      <td>35</td>\n",
              "      <td>0</td>\n",
              "      <td>33.6</td>\n",
              "      <td>0.627</td>\n",
              "      <td>50</td>\n",
              "      <td>1</td>\n",
              "    </tr>\n",
              "    <tr>\n",
              "      <th>1</th>\n",
              "      <td>1</td>\n",
              "      <td>85</td>\n",
              "      <td>66</td>\n",
              "      <td>29</td>\n",
              "      <td>0</td>\n",
              "      <td>26.6</td>\n",
              "      <td>0.351</td>\n",
              "      <td>31</td>\n",
              "      <td>0</td>\n",
              "    </tr>\n",
              "    <tr>\n",
              "      <th>2</th>\n",
              "      <td>8</td>\n",
              "      <td>183</td>\n",
              "      <td>64</td>\n",
              "      <td>0</td>\n",
              "      <td>0</td>\n",
              "      <td>23.3</td>\n",
              "      <td>0.672</td>\n",
              "      <td>32</td>\n",
              "      <td>1</td>\n",
              "    </tr>\n",
              "    <tr>\n",
              "      <th>3</th>\n",
              "      <td>1</td>\n",
              "      <td>89</td>\n",
              "      <td>66</td>\n",
              "      <td>23</td>\n",
              "      <td>94</td>\n",
              "      <td>28.1</td>\n",
              "      <td>0.167</td>\n",
              "      <td>21</td>\n",
              "      <td>0</td>\n",
              "    </tr>\n",
              "    <tr>\n",
              "      <th>4</th>\n",
              "      <td>0</td>\n",
              "      <td>137</td>\n",
              "      <td>40</td>\n",
              "      <td>35</td>\n",
              "      <td>168</td>\n",
              "      <td>43.1</td>\n",
              "      <td>2.288</td>\n",
              "      <td>33</td>\n",
              "      <td>1</td>\n",
              "    </tr>\n",
              "    <tr>\n",
              "      <th>...</th>\n",
              "      <td>...</td>\n",
              "      <td>...</td>\n",
              "      <td>...</td>\n",
              "      <td>...</td>\n",
              "      <td>...</td>\n",
              "      <td>...</td>\n",
              "      <td>...</td>\n",
              "      <td>...</td>\n",
              "      <td>...</td>\n",
              "    </tr>\n",
              "    <tr>\n",
              "      <th>763</th>\n",
              "      <td>10</td>\n",
              "      <td>101</td>\n",
              "      <td>76</td>\n",
              "      <td>48</td>\n",
              "      <td>180</td>\n",
              "      <td>32.9</td>\n",
              "      <td>0.171</td>\n",
              "      <td>63</td>\n",
              "      <td>0</td>\n",
              "    </tr>\n",
              "    <tr>\n",
              "      <th>764</th>\n",
              "      <td>2</td>\n",
              "      <td>122</td>\n",
              "      <td>70</td>\n",
              "      <td>27</td>\n",
              "      <td>0</td>\n",
              "      <td>36.8</td>\n",
              "      <td>0.340</td>\n",
              "      <td>27</td>\n",
              "      <td>0</td>\n",
              "    </tr>\n",
              "    <tr>\n",
              "      <th>765</th>\n",
              "      <td>5</td>\n",
              "      <td>121</td>\n",
              "      <td>72</td>\n",
              "      <td>23</td>\n",
              "      <td>112</td>\n",
              "      <td>26.2</td>\n",
              "      <td>0.245</td>\n",
              "      <td>30</td>\n",
              "      <td>0</td>\n",
              "    </tr>\n",
              "    <tr>\n",
              "      <th>766</th>\n",
              "      <td>1</td>\n",
              "      <td>126</td>\n",
              "      <td>60</td>\n",
              "      <td>0</td>\n",
              "      <td>0</td>\n",
              "      <td>30.1</td>\n",
              "      <td>0.349</td>\n",
              "      <td>47</td>\n",
              "      <td>1</td>\n",
              "    </tr>\n",
              "    <tr>\n",
              "      <th>767</th>\n",
              "      <td>1</td>\n",
              "      <td>93</td>\n",
              "      <td>70</td>\n",
              "      <td>31</td>\n",
              "      <td>0</td>\n",
              "      <td>30.4</td>\n",
              "      <td>0.315</td>\n",
              "      <td>23</td>\n",
              "      <td>0</td>\n",
              "    </tr>\n",
              "  </tbody>\n",
              "</table>\n",
              "<p>768 rows × 9 columns</p>\n",
              "</div>"
            ],
            "text/plain": [
              "     Pregnancies  Glucose  ...  Age  Outcome\n",
              "0              6      148  ...   50        1\n",
              "1              1       85  ...   31        0\n",
              "2              8      183  ...   32        1\n",
              "3              1       89  ...   21        0\n",
              "4              0      137  ...   33        1\n",
              "..           ...      ...  ...  ...      ...\n",
              "763           10      101  ...   63        0\n",
              "764            2      122  ...   27        0\n",
              "765            5      121  ...   30        0\n",
              "766            1      126  ...   47        1\n",
              "767            1       93  ...   23        0\n",
              "\n",
              "[768 rows x 9 columns]"
            ]
          },
          "metadata": {},
          "execution_count": 63
        }
      ]
    },
    {
      "cell_type": "code",
      "metadata": {
        "id": "wPEWGehNZAeE",
        "colab": {
          "base_uri": "https://localhost:8080/",
          "height": 253
        },
        "outputId": "73b43e11-89af-455a-db6b-a41e4ac28cab"
      },
      "source": [
        "# distribution of outcome - create a pie chart\n",
        "\n",
        "import matplotlib.pyplot as plt\n",
        "\n",
        "# Pie chart, where the slices will be ordered and plotted counter-clockwise:\n",
        "labels = 'Pregnancies', 'Glucose', 'BloodPressure', 'SkinThickness'\n",
        "sizes = [diabetes_df[\"Pregnancies\"].sum(), diabetes_df[\"Glucose\"].sum(), diabetes_df[\"BloodPressure\"].sum(), diabetes_df[\"SkinThickness\"].sum()]\n",
        "explode = (0, 0.1, 0, 0)  # only \"explode\" the 2nd slice (i.e. 'Hogs')\n",
        "\n",
        "fig1, ax1 = plt.subplots()\n",
        "ax1.pie(sizes, explode=explode, labels=labels, autopct='%1.1f%%',\n",
        "        shadow=True, startangle=90)\n",
        "ax1.axis('equal')  # Equal aspect ratio ensures that pie is drawn as a circle.\n",
        "\n",
        "plt.show()"
      ],
      "execution_count": null,
      "outputs": [
        {
          "output_type": "display_data",
          "data": {
            "image/png": "[encoded data removed]",
            "text/plain": [
              "<Figure size 432x288 with 1 Axes>"
            ]
          },
          "metadata": {}
        }
      ]
    },
    {
      "cell_type": "markdown",
      "metadata": {
        "id": "_3RFBJyyZAeG"
      },
      "source": [
        "Note your observations."
      ]
    },
    {
      "cell_type": "markdown",
      "metadata": {
        "id": "3lxiprbCZAeH"
      },
      "source": [
        "### 3.2 Research-Specific Analysis"
      ]
    },
    {
      "cell_type": "markdown",
      "metadata": {
        "id": "Va1fXT7BZAeH"
      },
      "source": [
        "Since our research question requires us to discover the factors that determine whether a patient has diabetes or not, we will make the 'Outcome' variable our main focus during this analysis."
      ]
    },
    {
      "cell_type": "code",
      "metadata": {
        "id": "Xx1ijV3fZAeI",
        "colab": {
          "base_uri": "https://localhost:8080/",
          "height": 350
        },
        "outputId": "1f067f05-73d4-4559-a71a-5a37e30d20c6"
      },
      "source": [
        "# box and bar plots of Pregnancies by Outcome\n",
        "fig, axes = plt.subplots(nrows = 1, ncols = 2, figsize = (12, 4))\n",
        "\n",
        "plt.subplot(1, 2, 1)\n",
        "sns.barplot(data = diabetes_df, x = 'Outcome', y = 'Pregnancies')\n",
        "plt.title('Bar plot of Outcome by Pregnancies')\n",
        "\n",
        "plt.subplot(1, 2, 2)\n",
        "sns.boxplot(diabetes_df.Pregnancies, diabetes_df.Outcome, orient = 'h')\n",
        "plt.title('Box plot of Pregnancies by Outcome')\n",
        "\n",
        "plt.show()"
      ],
      "execution_count": null,
      "outputs": [
        {
          "output_type": "stream",
          "name": "stderr",
          "text": [
            "/usr/local/lib/python3.7/dist-packages/seaborn/_decorators.py:43: FutureWarning: Pass the following variables as keyword args: x, y. From version 0.12, the only valid positional argument will be `data`, and passing other arguments without an explicit keyword will result in an error or misinterpretation.\n",
            "  FutureWarning\n"
          ]
        },
        {
          "output_type": "display_data",
          "data": {
            "image/png": "[encoded data removed]",
            "text/plain": [
              "<Figure size 864x288 with 2 Axes>"
            ]
          },
          "metadata": {
            "needs_background": "light"
          }
        }
      ]
    },
    {
      "cell_type": "markdown",
      "metadata": {
        "id": "uY8bKfbsZAeN"
      },
      "source": [
        "What do you notice?"
      ]
    },
    {
      "cell_type": "code",
      "metadata": {
        "id": "8KTAXcdEZAeO"
      },
      "source": [
        ""
      ],
      "execution_count": null,
      "outputs": []
    },
    {
      "cell_type": "code",
      "metadata": {
        "id": "db8v0fvRZAeQ",
        "colab": {
          "base_uri": "https://localhost:8080/",
          "height": 350
        },
        "outputId": "dcd2b9f1-ee95-4485-ae8c-140510196e10"
      },
      "source": [
        "# box and bar plots of Glucose by Outcome\n",
        "\n",
        "fig, axes = plt.subplots(nrows = 1, ncols = 2, figsize = (12, 4))\n",
        "\n",
        "plt.subplot(1, 2, 1)\n",
        "sns.barplot(data = diabetes_df, x = 'Outcome', y = 'Glucose')\n",
        "plt.title('Bar plot of Outcome by Glucose')\n",
        "\n",
        "plt.subplot(1, 2, 2)\n",
        "sns.boxplot(diabetes_df.Glucose, diabetes_df.Outcome, orient = 'h')\n",
        "plt.title('Box plot of Glucose by Outcome')\n",
        "\n",
        "plt.show()"
      ],
      "execution_count": null,
      "outputs": [
        {
          "output_type": "stream",
          "name": "stderr",
          "text": [
            "/usr/local/lib/python3.7/dist-packages/seaborn/_decorators.py:43: FutureWarning: Pass the following variables as keyword args: x, y. From version 0.12, the only valid positional argument will be `data`, and passing other arguments without an explicit keyword will result in an error or misinterpretation.\n",
            "  FutureWarning\n"
          ]
        },
        {
          "output_type": "display_data",
          "data": {
            "image/png": "[encoded data removed]",
            "text/plain": [
              "<Figure size 864x288 with 2 Axes>"
            ]
          },
          "metadata": {
            "needs_background": "light"
          }
        }
      ]
    },
    {
      "cell_type": "markdown",
      "metadata": {
        "id": "xneiKQtLZAeT"
      },
      "source": [
        "Note your observartions."
      ]
    },
    {
      "cell_type": "code",
      "metadata": {
        "id": "BJWhpiSXZAeT"
      },
      "source": [
        ""
      ],
      "execution_count": null,
      "outputs": []
    },
    {
      "cell_type": "code",
      "metadata": {
        "id": "RIdeopqYZAeb",
        "colab": {
          "base_uri": "https://localhost:8080/",
          "height": 350
        },
        "outputId": "a403939f-9168-4693-b49e-d2930c0cefab"
      },
      "source": [
        "# box and bar plots of BloodPressure by Outcome\n",
        "\n",
        "fig, axes = plt.subplots(nrows = 1, ncols = 2, figsize = (12, 4))\n",
        "\n",
        "plt.subplot(1, 2, 1)\n",
        "sns.barplot(data = diabetes_df, x = 'Outcome', y = 'BloodPressure')\n",
        "plt.title('Bar plot of Outcome by BloodPressure')\n",
        "\n",
        "plt.subplot(1, 2, 2)\n",
        "sns.boxplot(diabetes_df.BloodPressure, diabetes_df.Outcome, orient = 'h')\n",
        "plt.title('Box plot of BloodPressure by Outcome')\n",
        "\n",
        "plt.show()"
      ],
      "execution_count": null,
      "outputs": [
        {
          "output_type": "stream",
          "name": "stderr",
          "text": [
            "/usr/local/lib/python3.7/dist-packages/seaborn/_decorators.py:43: FutureWarning: Pass the following variables as keyword args: x, y. From version 0.12, the only valid positional argument will be `data`, and passing other arguments without an explicit keyword will result in an error or misinterpretation.\n",
            "  FutureWarning\n"
          ]
        },
        {
          "output_type": "display_data",
          "data": {
            "image/png": "[encoded data removed]",
            "text/plain": [
              "<Figure size 864x288 with 2 Axes>"
            ]
          },
          "metadata": {
            "needs_background": "light"
          }
        }
      ]
    },
    {
      "cell_type": "markdown",
      "metadata": {
        "id": "7B1cClwXZAei"
      },
      "source": [
        "Note your observations."
      ]
    },
    {
      "cell_type": "code",
      "metadata": {
        "id": "cLlJfhzjZAei"
      },
      "source": [
        ""
      ],
      "execution_count": null,
      "outputs": []
    },
    {
      "cell_type": "code",
      "metadata": {
        "id": "YSN2Cy6tZAfV",
        "colab": {
          "base_uri": "https://localhost:8080/",
          "height": 350
        },
        "outputId": "9355f519-a356-4d35-b1a7-4bcd57569277"
      },
      "source": [
        "# box and bar plots of SkinThickness by Outcome\n",
        "\n",
        "fig, axes = plt.subplots(nrows = 1, ncols = 2, figsize = (12, 4))\n",
        "\n",
        "plt.subplot(1, 2, 1)\n",
        "sns.barplot(data = diabetes_df, x = 'Outcome', y = 'SkinThickness')\n",
        "plt.title('Bar plot of Outcome by SkinThickness')\n",
        "\n",
        "plt.subplot(1, 2, 2)\n",
        "sns.boxplot(diabetes_df.SkinThickness, diabetes_df.Outcome, orient = 'h')\n",
        "plt.title('Box plot of SkinThickness by Outcome')\n",
        "\n",
        "plt.show()"
      ],
      "execution_count": null,
      "outputs": [
        {
          "output_type": "stream",
          "name": "stderr",
          "text": [
            "/usr/local/lib/python3.7/dist-packages/seaborn/_decorators.py:43: FutureWarning: Pass the following variables as keyword args: x, y. From version 0.12, the only valid positional argument will be `data`, and passing other arguments without an explicit keyword will result in an error or misinterpretation.\n",
            "  FutureWarning\n"
          ]
        },
        {
          "output_type": "display_data",
          "data": {
            "image/png": "[encoded data removed]",
            "text/plain": [
              "<Figure size 864x288 with 2 Axes>"
            ]
          },
          "metadata": {
            "needs_background": "light"
          }
        }
      ]
    },
    {
      "cell_type": "markdown",
      "metadata": {
        "id": "xUEyx7VVZAfd"
      },
      "source": [
        "Note your observations."
      ]
    },
    {
      "cell_type": "code",
      "metadata": {
        "id": "2P-I2UD_ZAfe"
      },
      "source": [
        ""
      ],
      "execution_count": null,
      "outputs": []
    },
    {
      "cell_type": "code",
      "metadata": {
        "id": "TOTTE_rKZAge",
        "colab": {
          "base_uri": "https://localhost:8080/",
          "height": 350
        },
        "outputId": "b1d3dd3e-81b5-4c55-80ac-752fcbc71539"
      },
      "source": [
        "# box and bar plots of Insulin by Outcome\n",
        "\n",
        "fig, axes = plt.subplots(nrows = 1, ncols = 2, figsize = (12, 4))\n",
        "\n",
        "plt.subplot(1, 2, 1)\n",
        "sns.barplot(data = diabetes_df, x = 'Outcome', y = 'Insulin')\n",
        "plt.title('Bar plot of Outcome by Insulin')\n",
        "\n",
        "plt.subplot(1, 2, 2)\n",
        "sns.boxplot(diabetes_df.Insulin, diabetes_df.Outcome, orient = 'h')\n",
        "plt.title('Box plot of Insulin by Outcome')\n",
        "\n",
        "plt.show()"
      ],
      "execution_count": null,
      "outputs": [
        {
          "output_type": "stream",
          "name": "stderr",
          "text": [
            "/usr/local/lib/python3.7/dist-packages/seaborn/_decorators.py:43: FutureWarning: Pass the following variables as keyword args: x, y. From version 0.12, the only valid positional argument will be `data`, and passing other arguments without an explicit keyword will result in an error or misinterpretation.\n",
            "  FutureWarning\n"
          ]
        },
        {
          "output_type": "display_data",
          "data": {
            "image/png": "[encoded data removed]",
            "text/plain": [
              "<Figure size 864x288 with 2 Axes>"
            ]
          },
          "metadata": {
            "needs_background": "light"
          }
        }
      ]
    },
    {
      "cell_type": "markdown",
      "metadata": {
        "id": "LMptMt3aZAgs"
      },
      "source": [
        "Note your observations."
      ]
    },
    {
      "cell_type": "code",
      "metadata": {
        "id": "oxbIJ2H_ZAgv"
      },
      "source": [
        ""
      ],
      "execution_count": null,
      "outputs": []
    },
    {
      "cell_type": "code",
      "metadata": {
        "id": "KZcufW3vZAg4",
        "colab": {
          "base_uri": "https://localhost:8080/",
          "height": 350
        },
        "outputId": "794affbd-231e-42e1-9977-19b25f9b3076"
      },
      "source": [
        "# box and bar plots of BMI by Outcome\n",
        "\n",
        "fig, axes = plt.subplots(nrows = 1, ncols = 2, figsize = (12, 4))\n",
        "\n",
        "plt.subplot(1, 2, 1)\n",
        "sns.barplot(data = diabetes_df, x = 'Outcome', y = 'BMI')\n",
        "plt.title('Bar plot of Outcome by BMI')\n",
        "\n",
        "plt.subplot(1, 2, 2)\n",
        "sns.boxplot(diabetes_df.BMI, diabetes_df.Outcome, orient = 'h')\n",
        "plt.title('Box plot of BMI by Outcome')\n",
        "\n",
        "plt.show()"
      ],
      "execution_count": null,
      "outputs": [
        {
          "output_type": "stream",
          "name": "stderr",
          "text": [
            "/usr/local/lib/python3.7/dist-packages/seaborn/_decorators.py:43: FutureWarning: Pass the following variables as keyword args: x, y. From version 0.12, the only valid positional argument will be `data`, and passing other arguments without an explicit keyword will result in an error or misinterpretation.\n",
            "  FutureWarning\n"
          ]
        },
        {
          "output_type": "display_data",
          "data": {
            "image/png": "[encoded data removed]",
            "text/plain": [
              "<Figure size 864x288 with 2 Axes>"
            ]
          },
          "metadata": {
            "needs_background": "light"
          }
        }
      ]
    },
    {
      "cell_type": "markdown",
      "metadata": {
        "id": "Wa86BMksZAg7"
      },
      "source": [
        "Note your observations."
      ]
    },
    {
      "cell_type": "code",
      "metadata": {
        "id": "YoGE5KOAZAg8"
      },
      "source": [
        ""
      ],
      "execution_count": null,
      "outputs": []
    },
    {
      "cell_type": "code",
      "metadata": {
        "id": "7yT9cCtNZAg_",
        "colab": {
          "base_uri": "https://localhost:8080/",
          "height": 350
        },
        "outputId": "9aa0cf08-0e40-4a2d-a55b-ee1c714af518"
      },
      "source": [
        "# box and bar plots of DiabetesPedigreeFunction by Outcome\n",
        "\n",
        "# HINT: use the code used for Pregnancies\n",
        "fig, axes = plt.subplots(nrows = 1, ncols = 2, figsize = (12, 4))\n",
        "\n",
        "plt.subplot(1, 2, 1)\n",
        "sns.barplot(data = diabetes_df, x = 'Outcome', y = 'BMI')\n",
        "plt.title('Bar plot of DiabetesPedigreeFunction by BMI')\n",
        "\n",
        "plt.subplot(1, 2, 2)\n",
        "sns.boxplot(diabetes_df.DiabetesPedigreeFunction, diabetes_df.Outcome, orient = 'h')\n",
        "plt.title('Box plot of DiabetesPedigreeFunction by Outcome')\n",
        "\n",
        "plt.show()"
      ],
      "execution_count": null,
      "outputs": [
        {
          "output_type": "stream",
          "name": "stderr",
          "text": [
            "/usr/local/lib/python3.7/dist-packages/seaborn/_decorators.py:43: FutureWarning: Pass the following variables as keyword args: x, y. From version 0.12, the only valid positional argument will be `data`, and passing other arguments without an explicit keyword will result in an error or misinterpretation.\n",
            "  FutureWarning\n"
          ]
        },
        {
          "output_type": "display_data",
          "data": {
            "image/png": "[encoded data removed]",
            "text/plain": [
              "<Figure size 864x288 with 2 Axes>"
            ]
          },
          "metadata": {
            "needs_background": "light"
          }
        }
      ]
    },
    {
      "cell_type": "markdown",
      "metadata": {
        "id": "_sZMWv-SZAhC"
      },
      "source": [
        "Note your observations."
      ]
    },
    {
      "cell_type": "code",
      "metadata": {
        "id": "zXiqffAFZAhC"
      },
      "source": [
        ""
      ],
      "execution_count": null,
      "outputs": []
    },
    {
      "cell_type": "code",
      "metadata": {
        "id": "S8eDoOzMZAhN",
        "colab": {
          "base_uri": "https://localhost:8080/",
          "height": 350
        },
        "outputId": "29faaf29-7fdc-45e0-ea8b-af1db2aa6caa"
      },
      "source": [
        "# box and bar plots of Age by Outcome\n",
        "\n",
        "fig, axes = plt.subplots(nrows = 1, ncols = 2, figsize = (12, 4))\n",
        "\n",
        "plt.subplot(1, 2, 1)\n",
        "sns.barplot(data = diabetes_df, x = 'Outcome', y = 'BMI')\n",
        "plt.title('Bar plot of DiabetesPedigreeFunction by BMI')\n",
        "\n",
        "plt.subplot(1, 2, 2)\n",
        "sns.boxplot(diabetes_df.Age, diabetes_df.Outcome, orient = 'h')\n",
        "plt.title('Box plot of Age by Outcome')\n",
        "\n",
        "plt.show()"
      ],
      "execution_count": null,
      "outputs": [
        {
          "output_type": "stream",
          "name": "stderr",
          "text": [
            "/usr/local/lib/python3.7/dist-packages/seaborn/_decorators.py:43: FutureWarning: Pass the following variables as keyword args: x, y. From version 0.12, the only valid positional argument will be `data`, and passing other arguments without an explicit keyword will result in an error or misinterpretation.\n",
            "  FutureWarning\n"
          ]
        },
        {
          "output_type": "display_data",
          "data": {
            "image/png": "[encoded data removed]",
            "text/plain": [
              "<Figure size 864x288 with 2 Axes>"
            ]
          },
          "metadata": {
            "needs_background": "light"
          }
        }
      ]
    },
    {
      "cell_type": "markdown",
      "metadata": {
        "id": "E14nQPS5ZAhW"
      },
      "source": [
        "Note your observations."
      ]
    },
    {
      "cell_type": "markdown",
      "metadata": {
        "id": "vTbdjSrhVIiT"
      },
      "source": [
        "## <font color='#2F4F4F'>4. Summary of Findings</font>"
      ]
    },
    {
      "cell_type": "markdown",
      "metadata": {
        "id": "PdHyc8WYHlAG"
      },
      "source": [
        "Interpret and summarize the findings of your analysis."
      ]
    },
    {
      "cell_type": "markdown",
      "metadata": {
        "id": "noZz5YRQXKzi"
      },
      "source": [
        "## <font color='#2F4F4F'>5. Recommendations</font>"
      ]
    },
    {
      "cell_type": "markdown",
      "metadata": {
        "id": "wdMBFVe0XSgf"
      },
      "source": [
        "What would you recommend the NGO Hospital to do based on the findings of your analysis?"
      ]
    },
    {
      "cell_type": "markdown",
      "metadata": {
        "id": "xrmHVMVsVS--"
      },
      "source": [
        "## <font color='#2F4F4F'>6. Challenging your Solution</font>"
      ]
    },
    {
      "cell_type": "markdown",
      "metadata": {
        "id": "HPQviDmNtta8"
      },
      "source": [
        "### a) Did we have the right data?\n"
      ]
    },
    {
      "cell_type": "markdown",
      "metadata": {
        "id": "CbQa-2odZAhb"
      },
      "source": [
        "### b) Did we have the right question?\n",
        "\n"
      ]
    }
  ]
}